{
 "cells": [
  {
   "cell_type": "markdown",
   "metadata": {},
   "source": [
    "# Machine Learning\n",
    "\n",
    "> Lectured by [Sung Kim](https://www.youtube.com/playlist?list=PLlMkM4tgfjnLSOjrEJN31gZATbcj_MpUm)\n",
    "\n",
    "> Study and wrote by [Woong](https://github.com/wjlee611)\n",
    "\n",
    "`❕ 아래 강의 정리는 tf v.1 기준으로 작성하고, 다른 파일(예제, 코드)은 tf v.2 기준으로 작성되었습니다 ❕`\n",
    "\n",
    "---"
   ]
  },
  {
   "cell_type": "markdown",
   "metadata": {},
   "source": [
    "## Goals\n",
    "\n",
    "### Basic understanding of machine learning algorithm\n",
    "- Linear regression, Logistic regression (classification)\n",
    "- Neural networks, Convolutional neural network (CNN), Recurrent neural network (RNN)\n",
    "\n",
    "### Solve your problems using machine learning tools\n",
    "- Tensorflow and Python\n",
    "\n",
    "---"
   ]
  },
  {
   "cell_type": "markdown",
   "metadata": {},
   "source": [
    "## 용어 정리\n",
    "\n",
    "| 용어 | 설명 | 학습 목표? |\n",
    "|---|---|---|\n",
    "| `Supervised Learning` | 지도 학습: 문제와 답, 태그가 붙어있는 training set으로 학습시키는 방법 | ✔ |\n",
    "| `Unsupervised Learning` | 비지도 학습: 문제는 있지만, 답, 태그는 없는 데이터로 스스로 학습하는 방법 | |\n",
    "| `Tensor rank` | 차원 개념. 0(Scalar), 1(Vector), 2(Metrix), 3(3-Tensor), n(n-Tensor) ... | ✔ |\n",
    "| `Tensor shape` | Rank 0: [], Rank 1: [D0], Rank 2: [D0, D1], Rank 3: [D0, D1, D2] ... | ✔ |\n",
    "| `Cost(Loss) function` | 가설-실제 데이터 사이의 차이를 계산하는 함수 (Loss가 작을수록 정확하다는 뜻) | ✔ |\n",
    "\n",
    "\n",
    "\n",
    "### 예시 (보충설명)\n",
    "\n",
    "- `Tensor shape`\\\n",
    "a = [[1, 2], [4, 5], [7, 8]], shape of a is [2, 3]\n",
    "\n",
    "- `Cost function`\\\n",
    "<img src=\"./images/cost_function_1.png\" width=\"400\" height=\"300\">\n",
    "<img src=\"./images/cost_function_2.png\" width=\"400\" height=\"300\">\n",
    "\n",
    "---"
   ]
  },
  {
   "cell_type": "markdown",
   "metadata": {},
   "source": [
    "## TensorFlow\n"
   ]
  },
  {
   "cell_type": "code",
   "execution_count": 6,
   "metadata": {},
   "outputs": [
    {
     "name": "stdout",
     "output_type": "stream",
     "text": [
      "2.0.0\n"
     ]
    }
   ],
   "source": [
    "# tf v.1\n",
    "import tensorflow.compat.v1 as tf\n",
    "tf.disable_v2_behavior()\n",
    "print(tf.__version__)\n",
    "#"
   ]
  },
  {
   "cell_type": "code",
   "execution_count": 5,
   "metadata": {},
   "outputs": [
    {
     "name": "stdout",
     "output_type": "stream",
     "text": [
      "b'Hello, TensorFlow!'\n"
     ]
    }
   ],
   "source": [
    "# This operation is added an a node to the default graph\n",
    "hello = tf.constant(\"Hello, TensorFlow!\")\n",
    "# Start a TF session\n",
    "sess = tf.Session()\n",
    "# Run the operation and get result\n",
    "print(sess.run(hello))\n",
    "#"
   ]
  },
  {
   "cell_type": "code",
   "execution_count": 3,
   "metadata": {},
   "outputs": [
    {
     "name": "stdout",
     "output_type": "stream",
     "text": [
      "Tensor(\"Const_1:0\", shape=(), dtype=float32) + Tensor(\"Const_2:0\", shape=(), dtype=float32) = Tensor(\"Add:0\", shape=(), dtype=float32)\n",
      "3.0 + 4.0 = 7.0\n"
     ]
    }
   ],
   "source": [
    "# Computational Graph\n",
    "node1 = tf.constant(3.0, tf.float32) # 이렇게 데이터 타입을 정의할 수도 있음\n",
    "node2 = tf.constant(4.0)\n",
    "node3 = tf.add(node1, node2)\n",
    "\n",
    "print(node1, '+', node2, '=', node3)\n",
    "print(sess.run(node1), '+', sess.run(node2), '=', sess.run(node3))"
   ]
  },
  {
   "cell_type": "code",
   "execution_count": 4,
   "metadata": {},
   "outputs": [
    {
     "name": "stdout",
     "output_type": "stream",
     "text": [
      "7.5\n",
      "[3. 7.]\n"
     ]
    }
   ],
   "source": [
    "# Placeholder\n",
    "a = tf.placeholder(tf.float32);\n",
    "b = tf.placeholder(tf.float32);\n",
    "adder_node = a + b\n",
    "\n",
    "sess = tf.Session()\n",
    "\n",
    "print(sess.run(adder_node, feed_dict={a: 3, b: 4.5}))\n",
    "print(sess.run(adder_node, feed_dict={a: [1, 3], b: [2, 4]}))\n"
   ]
  },
  {
   "cell_type": "markdown",
   "metadata": {},
   "source": [
    "### Linear regression"
   ]
  },
  {
   "cell_type": "code",
   "execution_count": 14,
   "metadata": {},
   "outputs": [
    {
     "name": "stdout",
     "output_type": "stream",
     "text": [
      "1 46.382996 [-0.06679714] [-0.68944067]\n",
      "201 0.091032356 [1.1952204] [0.39519262]\n",
      "401 0.023489147 [1.0991656] [0.7419808]\n",
      "601 0.0060609374 [1.050373] [0.9181377]\n",
      "801 0.0015639039 [1.0255877] [1.00762]\n",
      "1001 0.00040354813 [1.012998] [1.0530732]\n",
      "1201 0.00010412703 [1.0066025] [1.0761627]\n",
      "1401 2.6870495e-05 [1.0033541] [1.0878909]\n",
      "1601 6.9344073e-06 [1.0017039] [1.0938485]\n",
      "1801 1.7900757e-06 [1.0008657] [1.0968745]\n",
      "[7.101054]\n"
     ]
    }
   ],
   "source": [
    "w = tf.Variable(tf.random_normal([1]), name='weight') # [1]은 1차원 shape을 의미\n",
    "b = tf.Variable(tf.random_normal([1]), name='bias')\n",
    "x = tf.placeholder(tf.float32, shape=[None])\n",
    "y = tf.placeholder(tf.float32, shape=[None])\n",
    "\n",
    "# hypothesis\n",
    "hypothesis = x * w + b\n",
    "\n",
    "# cost/loss function\n",
    "cost = tf.reduce_mean(tf.square(hypothesis - y))\n",
    "\n",
    "# minimize\n",
    "optimizer = tf.train.GradientDescentOptimizer(learning_rate=0.01)\n",
    "train = optimizer.minimize(cost)\n",
    "\n",
    "# launch the graph in a session\n",
    "sess = tf.Session()\n",
    "# initialize global variables in the graph\n",
    "sess.run(tf.global_variables_initializer())\n",
    "\n",
    "# fit the line\n",
    "for step in range(2001):\n",
    "    cost_val, w_val, b_val, _ = sess.run([cost, w, b, train], feed_dict={x: [1, 2, 3, 4, 5], y: [2.1, 3.1, 4.1, 5.1, 6.1]})\n",
    "    if step % 200 == 1:\n",
    "        print(step, cost_val, w_val, b_val)\n",
    "\n",
    "# testing model\n",
    "print(sess.run(hypothesis, feed_dict={x: [6]}))"
   ]
  },
  {
   "cell_type": "code",
   "execution_count": null,
   "metadata": {},
   "outputs": [],
   "source": []
  }
 ],
 "metadata": {
  "kernelspec": {
   "display_name": "Python 3.7.11 ('py37_ML')",
   "language": "python",
   "name": "python3"
  },
  "language_info": {
   "codemirror_mode": {
    "name": "ipython",
    "version": 3
   },
   "file_extension": ".py",
   "mimetype": "text/x-python",
   "name": "python",
   "nbconvert_exporter": "python",
   "pygments_lexer": "ipython3",
   "version": "3.7.11"
  },
  "orig_nbformat": 4,
  "vscode": {
   "interpreter": {
    "hash": "08126dd0a5844298dee99d60528949c8812db41a2dddab4a2d4ba34fd01b96ed"
   }
  }
 },
 "nbformat": 4,
 "nbformat_minor": 2
}
